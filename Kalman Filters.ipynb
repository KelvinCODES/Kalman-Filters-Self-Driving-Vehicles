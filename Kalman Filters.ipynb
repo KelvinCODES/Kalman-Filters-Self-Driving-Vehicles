{
 "cells": [
  {
   "cell_type": "markdown",
   "metadata": {},
   "source": [
    "# Kalman filters For Self Driving Vehicles"
   ]
  },
  {
   "cell_type": "markdown",
   "metadata": {},
   "source": [
    "Explained the intuition and reasoning behind the user of Kalman Filters for self driving vehicles. Also Implemented Kalman Filters to predict object's movements and velocity"
   ]
  },
  {
   "cell_type": "markdown",
   "metadata": {},
   "source": [
    "## Reasoning for Kalman Filters\n",
    "\n",
    "We know that localization can be used with sensors to find out where our car is in the world.\n",
    "\n",
    "Kalman filters can be used to predict incoming cars and traffic while the self driving car is driving. A self driving car uses lasers and radars to track other vehicles.\n",
    "\n",
    "Kalman filters are useful because it can be used to find other cars and predict their velocity and movement which is important because with this information we can drive in a way where we do not crash into them. It can also be used for pedestrians and bicyclists"
   ]
  },
  {
   "cell_type": "markdown",
   "metadata": {},
   "source": [
    "<img src=\"http://drive.google.com/uc?export=view&id=1b3HVRMHSScx3H7Lm09VzzvVSeWP2FiwQ\">\n",
    "\n",
    "**Figure of Kalman Filters predicting where the object will appear next. In the context of self driving cars, this can be vehicles, pedestrians, bicycles etc.**"
   ]
  },
  {
   "cell_type": "markdown",
   "metadata": {},
   "source": [
    "## Kalman Filters vs Monte Carlo Localization"
   ]
  },
  {
   "cell_type": "markdown",
   "metadata": {},
   "source": [
    "    - Estimates a continuous state as opposed to a discrete state in Monte Carlo Localization (choppping the world up into discrete places.)\n",
    "    \n",
    "    - Uni-Modal distribution as opposed to a Multi-modal distribution\n"
   ]
  },
  {
   "cell_type": "markdown",
   "metadata": {},
   "source": [
    "<img src=\"http://drive.google.com/uc?export=view&id=112hWTnHgY8BV3kvM9nlhxUM4_CJ8g1G1\">"
   ]
  },
  {
   "cell_type": "markdown",
   "metadata": {},
   "source": [
    "## One dimensional Kalman Filter implementation"
   ]
  },
  {
   "cell_type": "markdown",
   "metadata": {},
   "source": [
    "### Update function"
   ]
  },
  {
   "cell_type": "markdown",
   "metadata": {},
   "source": [
    "Function responsible for updating the measurements for the gaussian distribution (multiplication of Gaussians)"
   ]
  },
  {
   "cell_type": "code",
   "execution_count": 100,
   "metadata": {},
   "outputs": [],
   "source": [
    "def update(mean1, var1, mean2, var2):\n",
    "    new_mean = (var1 * mean2 + var2 * mean1) / (var1 + var2)\n",
    "    new_var = (1 / ((1/var1) + (1/var2)))\n",
    "    return new_mean, new_var"
   ]
  },
  {
   "cell_type": "code",
   "execution_count": 101,
   "metadata": {},
   "outputs": [
    {
     "name": "stdout",
     "output_type": "stream",
     "text": [
      "(11.0, 2.0)\n"
     ]
    }
   ],
   "source": [
    "print(update(10., 4., 12., 4.))"
   ]
  },
  {
   "cell_type": "markdown",
   "metadata": {},
   "source": [
    "This is the correct behavior, since the mean of the two Gaussians are 10 and 12 respectively with the same variance. This means that the new resulting Gaussian should be in the middle of these two, and with a decreased variance"
   ]
  },
  {
   "cell_type": "markdown",
   "metadata": {},
   "source": [
    "### Predict function"
   ]
  },
  {
   "cell_type": "markdown",
   "metadata": {},
   "source": [
    "Function responsible to predict the movement of the object. (addition of Gaussians)"
   ]
  },
  {
   "cell_type": "code",
   "execution_count": 102,
   "metadata": {
    "collapsed": true
   },
   "outputs": [],
   "source": [
    "def predict(mean1, var1, mean2, var2):\n",
    "    new_mean = mean1 + mean2\n",
    "    new_var = var1 + var2\n",
    "    return new_mean, new_var"
   ]
  },
  {
   "cell_type": "markdown",
   "metadata": {},
   "source": [
    "If our prior is 10 and 4, our motion is 12 and 4"
   ]
  },
  {
   "cell_type": "code",
   "execution_count": 103,
   "metadata": {},
   "outputs": [
    {
     "data": {
      "text/plain": [
       "(22.0, 8.0)"
      ]
     },
     "execution_count": 103,
     "metadata": {},
     "output_type": "execute_result"
    }
   ],
   "source": [
    "predict(10., 4., 12., 4.)"
   ]
  },
  {
   "cell_type": "markdown",
   "metadata": {},
   "source": [
    "This is also the correct output. As we move our Gaussian, we are losing information and that depends on the variance of the motion Gaussian. Thus our variance increases."
   ]
  },
  {
   "cell_type": "markdown",
   "metadata": {},
   "source": [
    "### Main function"
   ]
  },
  {
   "cell_type": "markdown",
   "metadata": {},
   "source": [
    "Like Localiztion, Kalman filter iterates through two things, measurement updates and motion updates."
   ]
  },
  {
   "cell_type": "code",
   "execution_count": 104,
   "metadata": {
    "collapsed": true
   },
   "outputs": [],
   "source": [
    "measurements = [5., 6. ,7. , 9., 10.]\n",
    "motion = [1.,1.,2.,1.,1.]\n",
    "measurement_sig = 4.\n",
    "motion_sig = 2."
   ]
  },
  {
   "cell_type": "code",
   "execution_count": 105,
   "metadata": {},
   "outputs": [],
   "source": [
    "def Kalman(measurements, motion, measurement_sig, motion_sig, mean = 0., sig = 10000.):\n",
    "    for i in range(len(measurements)):\n",
    "        print('On measurement {}'.format(measurements[i]))\n",
    "        mean, sig = update(mean, sig, measurements[i], measurement_sig)\n",
    "        print ('Update values: {}, {}\\n'.format(mean, sig))\n",
    "        print('On motion {}'.format(motion[i]))\n",
    "        mean, sig = predict(mean, sig, motion[i], motion_sig)\n",
    "        print ('Predict values: {}, {}\\n'.format(mean, sig))"
   ]
  },
  {
   "cell_type": "code",
   "execution_count": 106,
   "metadata": {},
   "outputs": [
    {
     "name": "stdout",
     "output_type": "stream",
     "text": [
      "On measurement 5.0\n",
      "Update values: 4.998000799680128, 3.9984006397441023\n",
      "\n",
      "On motion 1.0\n",
      "Predict values: 5.998000799680128, 5.998400639744102\n",
      "\n",
      "On measurement 6.0\n",
      "Update values: 5.999200191953932, 2.399744061425258\n",
      "\n",
      "On motion 1.0\n",
      "Predict values: 6.999200191953932, 4.399744061425258\n",
      "\n",
      "On measurement 7.0\n",
      "Update values: 6.999619127420922, 2.0951800575117594\n",
      "\n",
      "On motion 2.0\n",
      "Predict values: 8.999619127420921, 4.09518005751176\n",
      "\n",
      "On measurement 9.0\n",
      "Update values: 8.999811802788143, 2.0235152416216957\n",
      "\n",
      "On motion 1.0\n",
      "Predict values: 9.999811802788143, 4.023515241621696\n",
      "\n",
      "On measurement 10.0\n",
      "Update values: 9.999906177177365, 2.0058615808441944\n",
      "\n",
      "On motion 1.0\n",
      "Predict values: 10.999906177177365, 4.005861580844194\n",
      "\n"
     ]
    }
   ],
   "source": [
    "Kalman(measurements, motion, measurement_sig, motion_sig)"
   ]
  },
  {
   "cell_type": "markdown",
   "metadata": {},
   "source": [
    "In Summary, the next predicted value for this array is 11."
   ]
  },
  {
   "cell_type": "markdown",
   "metadata": {},
   "source": [
    "### Explanation\n",
    "\n",
    "To explain what is happenning, the mean of the probability the car is keeping a track of is being shifted as measurement values are coming in from the car's radar and sensors. As more measurements are being recieved from its sensors, the car is more certain of its location, which leads the variance of the subsequent gaussians to be less and the mean to be shifted to the correct location.\n",
    "\n",
    "So this successfully predicted the next value this object will be at 11 with a variance which started with 10000, but it is has decreased drastically down to 4"
   ]
  },
  {
   "cell_type": "markdown",
   "metadata": {},
   "source": [
    "## Kalman Filter to determine velocity"
   ]
  },
  {
   "cell_type": "markdown",
   "metadata": {},
   "source": [
    "Kalman filters are also able to figure out the velocity of another object. From there it can make predictions for an object based on its velocity.\n",
    "\n",
    "The variables for a Kalman filter represents the state of the physical world object such as where another car is and how fast it is moving.\n",
    "\n",
    "There are two types of variables:\n",
    "    - observable variables: such as location of the car\n",
    "    - hidden variables: such as the velocity\n",
    "    \n",
    "Subsequent observations of the observable variables give us information about these hidden variables, so we can also estimate the hidden variables using Kalman Filters as well.\n"
   ]
  },
  {
   "cell_type": "markdown",
   "metadata": {},
   "source": [
    "## 2d Kalman Filter"
   ]
  },
  {
   "cell_type": "markdown",
   "metadata": {},
   "source": [
    "## Matrix class"
   ]
  },
  {
   "cell_type": "markdown",
   "metadata": {},
   "source": [
    "Helper class to create matrices and provide matrix operations"
   ]
  },
  {
   "cell_type": "code",
   "execution_count": 81,
   "metadata": {},
   "outputs": [],
   "source": [
    "from math import *\n",
    "class matrix:\n",
    "    \n",
    "    # implements basic operations of a matrix class\n",
    "    \n",
    "    def __init__(self, value):\n",
    "        self.value = value\n",
    "        self.dimx = len(value)\n",
    "        self.dimy = len(value[0])\n",
    "        if value == [[]]:\n",
    "            self.dimx = 0\n",
    "    \n",
    "    def zero(self, dimx, dimy):\n",
    "        # check if valid dimensions\n",
    "        if dimx < 1 or dimy < 1:\n",
    "            raise (ValueError, \"Invalid size of matrix\")\n",
    "        else:\n",
    "            self.dimx = dimx\n",
    "            self.dimy = dimy\n",
    "            self.value = [[0 for row in range(dimy)] for col in range(dimx)]\n",
    "    \n",
    "    def identity(self, dim):\n",
    "        # check if valid dimension\n",
    "        if dim < 1:\n",
    "            raise (ValueError, \"Invalid size of matrix\")\n",
    "        else:\n",
    "            self.dimx = dim\n",
    "            self.dimy = dim\n",
    "            self.value = [[0 for row in range(dim)] for col in range(dim)]\n",
    "            for i in range(dim):\n",
    "                self.value[i][i] = 1\n",
    "    \n",
    "    def show(self):\n",
    "        for i in range(self.dimx):\n",
    "            print(self.value[i])\n",
    "        print(' ')\n",
    "    \n",
    "    def __add__(self, other):\n",
    "        # check if correct dimensions\n",
    "        if self.dimx != other.dimx or self.dimy != other.dimy:\n",
    "            raise (ValueError, \"Matrices must be of equal dimensions to add\")\n",
    "        else:\n",
    "            # add if correct dimensions\n",
    "            res = matrix([[]])\n",
    "            res.zero(self.dimx, self.dimy)\n",
    "            for i in range(self.dimx):\n",
    "                for j in range(self.dimy):\n",
    "                    res.value[i][j] = self.value[i][j] + other.value[i][j]\n",
    "            return res\n",
    "    \n",
    "    def __sub__(self, other):\n",
    "        # check if correct dimensions\n",
    "        if self.dimx != other.dimx or self.dimy != other.dimy:\n",
    "            raise (ValueError, \"Matrices must be of equal dimensions to subtract\")\n",
    "        else:\n",
    "            # subtract if correct dimensions\n",
    "            res = matrix([[]])\n",
    "            res.zero(self.dimx, self.dimy)\n",
    "            for i in range(self.dimx):\n",
    "                for j in range(self.dimy):\n",
    "                    res.value[i][j] = self.value[i][j] - other.value[i][j]\n",
    "            return res\n",
    "    \n",
    "    def __mul__(self, other):\n",
    "        # check if correct dimensions\n",
    "        if self.dimy != other.dimx:\n",
    "            raise (ValueError, \"Matrices must be m*n and n*p to multiply\")\n",
    "        else:\n",
    "            # multiply if correct dimensions\n",
    "            res = matrix([[]])\n",
    "            res.zero(self.dimx, other.dimy)\n",
    "            for i in range(self.dimx):\n",
    "                for j in range(other.dimy):\n",
    "                    for k in range(self.dimy):\n",
    "                        res.value[i][j] += self.value[i][k] * other.value[k][j]\n",
    "            return res\n",
    "    \n",
    "    def transpose(self):\n",
    "        # compute transpose\n",
    "        res = matrix([[]])\n",
    "        res.zero(self.dimy, self.dimx)\n",
    "        for i in range(self.dimx):\n",
    "            for j in range(self.dimy):\n",
    "                res.value[j][i] = self.value[i][j]\n",
    "        return res\n",
    "    \n",
    "    def Cholesky(self, ztol=1.0e-5):\n",
    "        # Computes the upper triangular Cholesky factorization of\n",
    "        # a positive definite matrix.\n",
    "        res = matrix([[]])\n",
    "        res.zero(self.dimx, self.dimx)\n",
    "\n",
    "        for i in range(self.dimx):\n",
    "            S = sum([(res.value[k][i])**2 for k in range(i)])\n",
    "            d = self.value[i][i] - S\n",
    "            if abs(d) < ztol:\n",
    "                res.value[i][i] = 0.0\n",
    "            else:\n",
    "                if d < 0.0:\n",
    "                    raise (ValueError, \"Matrix not positive-definite\")\n",
    "                res.value[i][i] = sqrt(d)\n",
    "            for j in range(i+1, self.dimx):\n",
    "                S = sum([res.value[k][i] * res.value[k][j] for k in range(self.dimx)])\n",
    "                if abs(S) < ztol:\n",
    "                    S = 0.0\n",
    "                try:\n",
    "                    res.value[i][j] = (self.value[i][j] - S)/res.value[i][i]\n",
    "                except:\n",
    "                    raise (ValueError, \"Zero diagonal\")\n",
    "        return res\n",
    "    \n",
    "    def CholeskyInverse(self):\n",
    "        # Computes inverse of matrix given its Cholesky upper Triangular\n",
    "        # decomposition of matrix.\n",
    "        res = matrix([[]])\n",
    "        res.zero(self.dimx, self.dimx)\n",
    "        \n",
    "        # Backward step for inverse.\n",
    "        for j in reversed(range(self.dimx)):\n",
    "            tjj = self.value[j][j]\n",
    "            S = sum([self.value[j][k]*res.value[j][k] for k in range(j+1, self.dimx)])\n",
    "            res.value[j][j] = 1.0/tjj**2 - S/tjj\n",
    "            for i in reversed(range(j)):\n",
    "                res.value[j][i] = res.value[i][j] = -sum([self.value[i][k]*res.value[k][j] for k in range(i+1, self.dimx)])/self.value[i][i]\n",
    "        return res\n",
    "    \n",
    "    def inverse(self):\n",
    "        aux = self.Cholesky()\n",
    "        res = aux.CholeskyInverse()\n",
    "        return res\n",
    "    \n",
    "    def __repr__(self):\n",
    "        return repr(self.value)\n",
    "    \n",
    "    def __getitem__(self,index):\n",
    "        return self.value[index]"
   ]
  },
  {
   "cell_type": "markdown",
   "metadata": {},
   "source": [
    "@Credit to Sebastian Thrun for matrix helper function"
   ]
  },
  {
   "cell_type": "markdown",
   "metadata": {},
   "source": [
    "\n",
    "## Variables"
   ]
  },
  {
   "cell_type": "code",
   "execution_count": 60,
   "metadata": {},
   "outputs": [],
   "source": [
    "#initial state of location and velocity\n",
    "x = matrix([[0.], [0.]])\n",
    "\n",
    "#initial uncertainty of location and velocity\n",
    "P = matrix([[1000., 0.], [0.,1000.]]) \n",
    "\n",
    "#external motion (we will leave as [[0.], [0.]])\n",
    "u = matrix([[0.], [0.]])\n",
    "\n",
    "#next state function (new location = location + velocity and velocity = velocity)\n",
    "F = matrix([[1.,1], [0, 1.]])\n",
    "\n",
    "#measurement function (to grab the measurement from matrix x)\n",
    "H = matrix([[1., 0]])\n",
    "\n",
    "#measurement uncertainty\n",
    "R = matrix([[1.]])\n",
    "\n",
    "#identity matrix\n",
    "I = matrix([[1.,0.], [0., 1.]])"
   ]
  },
  {
   "cell_type": "markdown",
   "metadata": {},
   "source": [
    "## Kalman filter function"
   ]
  },
  {
   "cell_type": "markdown",
   "metadata": {},
   "source": [
    "We will perform a measurement update followed by a prediction for every measurement we recieve.\n",
    "\n",
    "In a more practical example, the measurements will be measurements recieved from radar or laser sensors detecting an external object"
   ]
  },
  {
   "cell_type": "code",
   "execution_count": 96,
   "metadata": {},
   "outputs": [],
   "source": [
    "def kalman_filter(x, P):\n",
    "    for i in range(len(measurements)):\n",
    "        # measurement update\n",
    "        y = matrix([[measurements[i]]]) - (H * x)\n",
    "        S = H * P * H.transpose() + R\n",
    "        K = P * H.transpose() * S.inverse()\n",
    "        x = x + (K * y)\n",
    "        P = (I - K * H) * P\n",
    "        \n",
    "        #prediction\n",
    "        x = (F * x) + u\n",
    "        P = (F * P) * F.transpose()\n",
    "        print(\"Observed measurement: {}\\n\".format(measurements[i]))\n",
    "        print(\"The predicted next location is: {:2f}\".format(float(x[0][0])))\n",
    "        print(\"The predicted velocity is : {:2f}\".format(float(x[1][0])))\n",
    "        print(\"The variance of the predicted next location is: {:2f}\".format(P[0][0]))\n",
    "        print(\"The variance of the predicted velocity is: {:2f}\\n\".format(P[1][1]))\n",
    "    return x, P"
   ]
  },
  {
   "cell_type": "markdown",
   "metadata": {},
   "source": [
    "Source: https://en.wikipedia.org/wiki/Kalman_filter"
   ]
  },
  {
   "cell_type": "markdown",
   "metadata": {},
   "source": [
    "## Testing "
   ]
  },
  {
   "cell_type": "code",
   "execution_count": 107,
   "metadata": {},
   "outputs": [
    {
     "name": "stdout",
     "output_type": "stream",
     "text": [
      "Observed measurement: 1\n",
      "\n",
      "The predicted next location is: 0.999001\n",
      "The predicted velocity is : 0.000000\n",
      "The variance of the predicted next location is: 1000.999001\n",
      "The variance of the predicted velocity is: 1000.000000\n",
      "\n",
      "Observed measurement: 2\n",
      "\n",
      "The predicted next location is: 2.998003\n",
      "The predicted velocity is : 0.999002\n",
      "The variance of the predicted next location is: 4.990025\n",
      "The variance of the predicted velocity is: 1.995013\n",
      "\n",
      "Observed measurement: 3\n",
      "\n",
      "The predicted next location is: 3.999666\n",
      "The predicted velocity is : 1.000000\n",
      "The variance of the predicted next location is: 2.331890\n",
      "The variance of the predicted velocity is: 0.499501\n",
      "\n",
      "Observed measurement: 4\n",
      "\n",
      "The predicted next location is: 5.000000\n",
      "The predicted velocity is : 1.000100\n",
      "The variance of the predicted next location is: 1.499500\n",
      "The variance of the predicted velocity is: 0.199870\n",
      "\n",
      "Observed measurement: 5\n",
      "\n",
      "The predicted next location is: 6.000100\n",
      "The predicted velocity is : 1.000100\n",
      "The variance of the predicted next location is: 1.099750\n",
      "The variance of the predicted velocity is: 0.099950\n",
      "\n",
      "([[6.000099810130912], [1.000099910060959]], [[1.099750152897986, 0.299890070952541], [0.2998900709525407, 0.09995003297791959]])\n"
     ]
    }
   ],
   "source": [
    "#measurement of locations observed from an object\n",
    "measurements = [1,2,3,4,5]\n",
    "\n",
    "print(kalman_filter(x, P))"
   ]
  },
  {
   "cell_type": "markdown",
   "metadata": {},
   "source": [
    "## Summary"
   ]
  },
  {
   "cell_type": "markdown",
   "metadata": {},
   "source": [
    "In summary, given the only the first observed measurement of 1, the Kalman filter is unable to predict what the next location or velocity will be. This is because subsequent observations are needed to be able to estimate what the next point will be. Note that the variance is also still very high, as it is roughly our initial variance of 1000.\n",
    "\n",
    "With a second observed measurement of 2. The Kalman filter is able to predict that the next location is ~3 and the predicted velocity of the object to be 1. Which is correct. Note that the variance of the predicted next location and the predicted velocity drops drastically with a second observed measurement.\n",
    "\n",
    "With a third observed measurement of 3. The Kalman filter is able to predict the next location is ~4 and the predicted velocity is 1. Given the trajectory of the object, this is most likely the case. The variance of the predicted location and velocity is also alot lower then it was before.\n",
    "\n",
    "The trend continues until the fifth observation.\n",
    "\n",
    "Something to note is that the variance will keep dropping as long as new measurements are coming in. This is because the multiplication of two Gaussians always cause the variance to be smaller. So this behavior we are witnessing for the observed measurements is correct."
   ]
  },
  {
   "cell_type": "markdown",
   "metadata": {},
   "source": [
    "@Picture credits to Sebastian Thrund"
   ]
  },
  {
   "cell_type": "code",
   "execution_count": null,
   "metadata": {
    "collapsed": true
   },
   "outputs": [],
   "source": []
  }
 ],
 "metadata": {
  "kernelspec": {
   "display_name": "Python 3",
   "language": "python",
   "name": "python3"
  },
  "language_info": {
   "codemirror_mode": {
    "name": "ipython",
    "version": 3
   },
   "file_extension": ".py",
   "mimetype": "text/x-python",
   "name": "python",
   "nbconvert_exporter": "python",
   "pygments_lexer": "ipython3",
   "version": "3.6.3"
  }
 },
 "nbformat": 4,
 "nbformat_minor": 2
}
